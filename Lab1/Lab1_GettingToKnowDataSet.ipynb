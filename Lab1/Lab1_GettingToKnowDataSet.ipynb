{
  "nbformat": 4,
  "nbformat_minor": 0,
  "metadata": {
    "colab": {
      "name": "Lab1_GettingToKnowDataSet.ipynb",
      "provenance": [],
      "toc_visible": true,
      "include_colab_link": true
    },
    "kernelspec": {
      "name": "python3",
      "display_name": "Python 3"
    }
  },
  "cells": [
    {
      "cell_type": "markdown",
      "metadata": {
        "id": "view-in-github",
        "colab_type": "text"
      },
      "source": [
        "<a href=\"https://colab.research.google.com/github/quarcs-lab/book-2020-spatial-analysis-methods-and-practice/blob/master/Lab1/Lab1_GettingToKnowDataSet.ipynb\" target=\"_parent\"><img src=\"https://colab.research.google.com/assets/colab-badge.svg\" alt=\"Open In Colab\"/></a>"
      ]
    },
    {
      "cell_type": "markdown",
      "metadata": {
        "id": "OksagPYqFieD",
        "colab_type": "text"
      },
      "source": [
        "# Lab 01: Getting to know the dataset with Python"
      ]
    },
    {
      "cell_type": "markdown",
      "metadata": {
        "id": "2w2i9A11xbtY",
        "colab_type": "text"
      },
      "source": [
        "## Install libraries"
      ]
    },
    {
      "cell_type": "code",
      "metadata": {
        "id": "mMqi_v_toYMF",
        "colab_type": "code",
        "colab": {}
      },
      "source": [
        "!pip install -q geopandas\n",
        "!pip install -q libpysal\n",
        "!pip install -q mapclassify\n",
        "!pip install -q splot\n",
        "!pip install -q legendgram\n",
        "!pip install -q esda\n",
        "!pip install -q inequality\n",
        "!pip install -q giddy\n",
        "!pip install -q ipywidgets "
      ],
      "execution_count": 0,
      "outputs": []
    },
    {
      "cell_type": "markdown",
      "metadata": {
        "id": "aod9ThO7bhzQ",
        "colab_type": "text"
      },
      "source": [
        "## Load libraries"
      ]
    },
    {
      "cell_type": "code",
      "metadata": {
        "id": "QP-noqLtbW49",
        "colab_type": "code",
        "outputId": "6df5511f-bf02-455e-dec6-88d2a8e4ef1d",
        "colab": {
          "base_uri": "https://localhost:8080/",
          "height": 72
        }
      },
      "source": [
        "import pandas as pd\n",
        "import geopandas as gpd\n",
        "import seaborn as sns\n",
        "import numpy as np\n",
        "import matplotlib.pyplot as plt\n",
        "import palettable.matplotlib as mplpal\n",
        "%matplotlib inline\n",
        "\n",
        "from libpysal import examples\n",
        "from libpysal.weights.contiguity import Queen\n",
        "from libpysal import weights\n",
        "\n",
        "import mapclassify\n",
        "\n",
        "from legendgram import legendgram\n",
        "\n",
        "import splot\n",
        "from splot.esda import plot_moran\n",
        "from splot.esda import moran_scatterplot\n",
        "from splot.esda import lisa_cluster\n",
        "from splot.esda import plot_local_autocorrelation\n",
        "from splot.esda import plot_moran_bv_simulation, plot_moran_bv\n",
        "\n",
        "import esda\n",
        "from esda.moran import Moran\n",
        "from esda.moran import Moran_Local\n",
        "from esda.moran import Moran_BV, Moran_Local_BV\n",
        "\n",
        "from giddy.directional import Rose\n",
        "\n",
        "from ipywidgets import interact, fixed\n",
        "import ipywidgets as widgets\n",
        "\n",
        "from scipy.stats.kde import gaussian_kde\n",
        "\n",
        "import os\n",
        "\n",
        "#plt.style.use('ggplot')\n",
        "#plt.style.use('seaborn-whitegrid')\n",
        "##plt.style.use('seaborn-darkgrid')\n",
        "#plt.style.use('seaborn-dark')\n",
        "#plt.style.use('bmh')"
      ],
      "execution_count": 2,
      "outputs": [
        {
          "output_type": "stream",
          "text": [
            "/usr/local/lib/python3.6/dist-packages/statsmodels/tools/_testing.py:19: FutureWarning: pandas.util.testing is deprecated. Use the functions in the public API at pandas.testing instead.\n",
            "  import pandas.util.testing as tm\n"
          ],
          "name": "stderr"
        }
      ]
    },
    {
      "cell_type": "markdown",
      "metadata": {
        "colab_type": "text",
        "id": "K4UzzO_y8Vtp"
      },
      "source": [
        "## Data prepration"
      ]
    },
    {
      "cell_type": "markdown",
      "metadata": {
        "id": "j5w6na-08MVQ",
        "colab_type": "text"
      },
      "source": [
        "### Import datasets"
      ]
    },
    {
      "cell_type": "code",
      "metadata": {
        "id": "MKmQZHIaBZSt",
        "colab_type": "code",
        "outputId": "902714bc-70b7-4589-cc6e-060682be8c70",
        "colab": {
          "base_uri": "https://localhost:8080/",
          "height": 173
        }
      },
      "source": [
        "# Clone entire Github repository\n",
        "!git clone -l -s git://github.com/quarcs-lab/book-2020-spatial-analysis-methods-and-practice.git cloned-repo\n",
        "%cd cloned-repo\n",
        "# Show contents of repo\n",
        "#!ls"
      ],
      "execution_count": 3,
      "outputs": [
        {
          "output_type": "stream",
          "text": [
            "Cloning into 'cloned-repo'...\n",
            "warning: --local is ignored\n",
            "remote: Enumerating objects: 423, done.\u001b[K\n",
            "remote: Counting objects:   0% (1/423)\u001b[K\rremote: Counting objects:   1% (5/423)\u001b[K\rremote: Counting objects:   2% (9/423)\u001b[K\rremote: Counting objects:   3% (13/423)\u001b[K\rremote: Counting objects:   4% (17/423)\u001b[K\rremote: Counting objects:   5% (22/423)\u001b[K\rremote: Counting objects:   6% (26/423)\u001b[K\rremote: Counting objects:   7% (30/423)\u001b[K\rremote: Counting objects:   8% (34/423)\u001b[K\rremote: Counting objects:   9% (39/423)\u001b[K\rremote: Counting objects:  10% (43/423)\u001b[K\rremote: Counting objects:  11% (47/423)\u001b[K\rremote: Counting objects:  12% (51/423)\u001b[K\rremote: Counting objects:  13% (55/423)\u001b[K\rremote: Counting objects:  14% (60/423)\u001b[K\rremote: Counting objects:  15% (64/423)\u001b[K\rremote: Counting objects:  16% (68/423)\u001b[K\rremote: Counting objects:  17% (72/423)\u001b[K\rremote: Counting objects:  18% (77/423)\u001b[K\rremote: Counting objects:  19% (81/423)\u001b[K\rremote: Counting objects:  20% (85/423)\u001b[K\rremote: Counting objects:  21% (89/423)\u001b[K\rremote: Counting objects:  22% (94/423)\u001b[K\rremote: Counting objects:  23% (98/423)\u001b[K\rremote: Counting objects:  24% (102/423)\u001b[K\rremote: Counting objects:  25% (106/423)\u001b[K\rremote: Counting objects:  26% (110/423)\u001b[K\rremote: Counting objects:  27% (115/423)\u001b[K\rremote: Counting objects:  28% (119/423)\u001b[K\rremote: Counting objects:  29% (123/423)\u001b[K\rremote: Counting objects:  30% (127/423)\u001b[K\rremote: Counting objects:  31% (132/423)\u001b[K\rremote: Counting objects:  32% (136/423)\u001b[K\rremote: Counting objects:  33% (140/423)\u001b[K\rremote: Counting objects:  34% (144/423)\u001b[K\rremote: Counting objects:  35% (149/423)\u001b[K\rremote: Counting objects:  36% (153/423)\u001b[K\rremote: Counting objects:  37% (157/423)\u001b[K\rremote: Counting objects:  38% (161/423)\u001b[K\rremote: Counting objects:  39% (165/423)\u001b[K\rremote: Counting objects:  40% (170/423)\u001b[K\rremote: Counting objects:  41% (174/423)\u001b[K\rremote: Counting objects:  42% (178/423)\u001b[K\rremote: Counting objects:  43% (182/423)\u001b[K\rremote: Counting objects:  44% (187/423)\u001b[K\rremote: Counting objects:  45% (191/423)\u001b[K\rremote: Counting objects:  46% (195/423)\u001b[K\rremote: Counting objects:  47% (199/423)\u001b[K\rremote: Counting objects:  48% (204/423)\u001b[K\rremote: Counting objects:  49% (208/423)\u001b[K\rremote: Counting objects:  50% (212/423)\u001b[K\rremote: Counting objects:  51% (216/423)\u001b[K\rremote: Counting objects:  52% (220/423)\u001b[K\rremote: Counting objects:  53% (225/423)\u001b[K\rremote: Counting objects:  54% (229/423)\u001b[K\rremote: Counting objects:  55% (233/423)\u001b[K\rremote: Counting objects:  56% (237/423)\u001b[K\rremote: Counting objects:  57% (242/423)\u001b[K\rremote: Counting objects:  58% (246/423)\u001b[K\rremote: Counting objects:  59% (250/423)\u001b[K\rremote: Counting objects:  60% (254/423)\u001b[K\rremote: Counting objects:  61% (259/423)\u001b[K\rremote: Counting objects:  62% (263/423)\u001b[K\rremote: Counting objects:  63% (267/423)\u001b[K\rremote: Counting objects:  64% (271/423)\u001b[K\rremote: Counting objects:  65% (275/423)\u001b[K\rremote: Counting objects:  66% (280/423)\u001b[K\rremote: Counting objects:  67% (284/423)\u001b[K\rremote: Counting objects:  68% (288/423)\u001b[K\rremote: Counting objects:  69% (292/423)\u001b[K\rremote: Counting objects:  70% (297/423)\u001b[K\rremote: Counting objects:  71% (301/423)\u001b[K\rremote: Counting objects:  72% (305/423)\u001b[K\rremote: Counting objects:  73% (309/423)\u001b[K\rremote: Counting objects:  74% (314/423)\u001b[K\rremote: Counting objects:  75% (318/423)\u001b[K\rremote: Counting objects:  76% (322/423)\u001b[K\rremote: Counting objects:  77% (326/423)\u001b[K\rremote: Counting objects:  78% (330/423)\u001b[K\rremote: Counting objects:  79% (335/423)\u001b[K\rremote: Counting objects:  80% (339/423)\u001b[K\rremote: Counting objects:  81% (343/423)\u001b[K\rremote: Counting objects:  82% (347/423)\u001b[K\rremote: Counting objects:  83% (352/423)\u001b[K\rremote: Counting objects:  84% (356/423)\u001b[K\rremote: Counting objects:  85% (360/423)\u001b[K\rremote: Counting objects:  86% (364/423)\u001b[K\rremote: Counting objects:  87% (369/423)\u001b[K\rremote: Counting objects:  88% (373/423)\u001b[K\rremote: Counting objects:  89% (377/423)\u001b[K\rremote: Counting objects:  90% (381/423)\u001b[K\rremote: Counting objects:  91% (385/423)\u001b[K\rremote: Counting objects:  92% (390/423)\u001b[K\rremote: Counting objects:  93% (394/423)\u001b[K\rremote: Counting objects:  94% (398/423)\u001b[K\rremote: Counting objects:  95% (402/423)\u001b[K\rremote: Counting objects:  96% (407/423)\u001b[K\rremote: Counting objects:  97% (411/423)\u001b[K\rremote: Counting objects:  98% (415/423)\u001b[K\rremote: Counting objects:  99% (419/423)\u001b[K\rremote: Counting objects: 100% (423/423)\u001b[K\rremote: Counting objects: 100% (423/423), done.\u001b[K\n",
            "remote: Compressing objects: 100% (251/251), done.\u001b[K\n",
            "remote: Total 423 (delta 165), reused 408 (delta 156), pack-reused 0\u001b[K\n",
            "Receiving objects: 100% (423/423), 14.80 MiB | 30.37 MiB/s, done.\n",
            "Resolving deltas: 100% (165/165), done.\n",
            "/content/cloned-repo\n"
          ],
          "name": "stdout"
        }
      ]
    },
    {
      "cell_type": "code",
      "metadata": {
        "id": "neJuV28ICFlP",
        "colab_type": "code",
        "outputId": "e06a7149-0572-43d7-dd80-6f44a511e097",
        "colab": {
          "base_uri": "https://localhost:8080/",
          "height": 1000
        }
      },
      "source": [
        "# read shapefile \n",
        "gdf = gpd.read_file(\"/content/cloned-repo/Lab1/GeoDa/CityGeoDa.shp\")\n",
        "gdf"
      ],
      "execution_count": 4,
      "outputs": [
        {
          "output_type": "execute_result",
          "data": {
            "text/html": [
              "<div>\n",
              "<style scoped>\n",
              "    .dataframe tbody tr th:only-of-type {\n",
              "        vertical-align: middle;\n",
              "    }\n",
              "\n",
              "    .dataframe tbody tr th {\n",
              "        vertical-align: top;\n",
              "    }\n",
              "\n",
              "    .dataframe thead th {\n",
              "        text-align: right;\n",
              "    }\n",
              "</style>\n",
              "<table border=\"1\" class=\"dataframe\">\n",
              "  <thead>\n",
              "    <tr style=\"text-align: right;\">\n",
              "      <th></th>\n",
              "      <th>Municipali</th>\n",
              "      <th>PostCode</th>\n",
              "      <th>Population</th>\n",
              "      <th>SecondaryE</th>\n",
              "      <th>University</th>\n",
              "      <th>Phd_Master</th>\n",
              "      <th>Income</th>\n",
              "      <th>Insurance</th>\n",
              "      <th>Rent</th>\n",
              "      <th>Expenses</th>\n",
              "      <th>Area</th>\n",
              "      <th>Regimes</th>\n",
              "      <th>Density</th>\n",
              "      <th>Foreigners</th>\n",
              "      <th>Owners</th>\n",
              "      <th>geometry</th>\n",
              "    </tr>\n",
              "  </thead>\n",
              "  <tbody>\n",
              "    <tr>\n",
              "      <th>0</th>\n",
              "      <td>ATHENS</td>\n",
              "      <td>10434</td>\n",
              "      <td>7063</td>\n",
              "      <td>51.28</td>\n",
              "      <td>19.82</td>\n",
              "      <td>1.81</td>\n",
              "      <td>15451.63</td>\n",
              "      <td>212.98</td>\n",
              "      <td>632.04</td>\n",
              "      <td>178.583919</td>\n",
              "      <td>3.322201e+05</td>\n",
              "      <td>2</td>\n",
              "      <td>0.02</td>\n",
              "      <td>28.67</td>\n",
              "      <td>36.28</td>\n",
              "      <td>POLYGON ((475913.572 4205144.087, 475915.290 4...</td>\n",
              "    </tr>\n",
              "    <tr>\n",
              "      <th>1</th>\n",
              "      <td>ATHENS</td>\n",
              "      <td>10435</td>\n",
              "      <td>4900</td>\n",
              "      <td>42.29</td>\n",
              "      <td>9.00</td>\n",
              "      <td>0.90</td>\n",
              "      <td>10992.85</td>\n",
              "      <td>118.41</td>\n",
              "      <td>623.70</td>\n",
              "      <td>79.890622</td>\n",
              "      <td>2.805819e+05</td>\n",
              "      <td>2</td>\n",
              "      <td>0.02</td>\n",
              "      <td>22.04</td>\n",
              "      <td>37.41</td>\n",
              "      <td>POLYGON ((474945.127 4203977.328, 474949.878 4...</td>\n",
              "    </tr>\n",
              "    <tr>\n",
              "      <th>2</th>\n",
              "      <td>ATHENS</td>\n",
              "      <td>10436</td>\n",
              "      <td>3221</td>\n",
              "      <td>45.76</td>\n",
              "      <td>11.27</td>\n",
              "      <td>0.56</td>\n",
              "      <td>10294.89</td>\n",
              "      <td>108.40</td>\n",
              "      <td>624.93</td>\n",
              "      <td>72.294562</td>\n",
              "      <td>2.079681e+05</td>\n",
              "      <td>2</td>\n",
              "      <td>0.02</td>\n",
              "      <td>35.70</td>\n",
              "      <td>30.22</td>\n",
              "      <td>POLYGON ((475200.579 4204194.646, 475202.300 4...</td>\n",
              "    </tr>\n",
              "    <tr>\n",
              "      <th>3</th>\n",
              "      <td>ATHENS</td>\n",
              "      <td>10440</td>\n",
              "      <td>10919</td>\n",
              "      <td>51.41</td>\n",
              "      <td>13.75</td>\n",
              "      <td>0.96</td>\n",
              "      <td>13460.39</td>\n",
              "      <td>116.00</td>\n",
              "      <td>610.38</td>\n",
              "      <td>98.658519</td>\n",
              "      <td>2.406351e+05</td>\n",
              "      <td>2</td>\n",
              "      <td>0.05</td>\n",
              "      <td>29.01</td>\n",
              "      <td>34.68</td>\n",
              "      <td>POLYGON ((475457.791 4205205.622, 475539.603 4...</td>\n",
              "    </tr>\n",
              "    <tr>\n",
              "      <th>4</th>\n",
              "      <td>ATHENS</td>\n",
              "      <td>10442</td>\n",
              "      <td>8036</td>\n",
              "      <td>46.04</td>\n",
              "      <td>8.55</td>\n",
              "      <td>0.54</td>\n",
              "      <td>12498.30</td>\n",
              "      <td>146.16</td>\n",
              "      <td>492.59</td>\n",
              "      <td>99.116531</td>\n",
              "      <td>1.315989e+06</td>\n",
              "      <td>2</td>\n",
              "      <td>0.01</td>\n",
              "      <td>12.88</td>\n",
              "      <td>49.19</td>\n",
              "      <td>POLYGON ((473381.623 4204847.057, 473360.125 4...</td>\n",
              "    </tr>\n",
              "    <tr>\n",
              "      <th>...</th>\n",
              "      <td>...</td>\n",
              "      <td>...</td>\n",
              "      <td>...</td>\n",
              "      <td>...</td>\n",
              "      <td>...</td>\n",
              "      <td>...</td>\n",
              "      <td>...</td>\n",
              "      <td>...</td>\n",
              "      <td>...</td>\n",
              "      <td>...</td>\n",
              "      <td>...</td>\n",
              "      <td>...</td>\n",
              "      <td>...</td>\n",
              "      <td>...</td>\n",
              "      <td>...</td>\n",
              "      <td>...</td>\n",
              "    </tr>\n",
              "    <tr>\n",
              "      <th>85</th>\n",
              "      <td>ATHENS</td>\n",
              "      <td>11743</td>\n",
              "      <td>17220</td>\n",
              "      <td>43.60</td>\n",
              "      <td>22.03</td>\n",
              "      <td>2.93</td>\n",
              "      <td>12527.34</td>\n",
              "      <td>157.93</td>\n",
              "      <td>610.24</td>\n",
              "      <td>115.396884</td>\n",
              "      <td>6.008519e+05</td>\n",
              "      <td>2</td>\n",
              "      <td>0.03</td>\n",
              "      <td>12.04</td>\n",
              "      <td>43.48</td>\n",
              "      <td>POLYGON ((475917.556 4201186.144, 475877.202 4...</td>\n",
              "    </tr>\n",
              "    <tr>\n",
              "      <th>86</th>\n",
              "      <td>ATHENS</td>\n",
              "      <td>10559</td>\n",
              "      <td>34</td>\n",
              "      <td>61.76</td>\n",
              "      <td>26.47</td>\n",
              "      <td>0.20</td>\n",
              "      <td>19499.93</td>\n",
              "      <td>278.10</td>\n",
              "      <td>443.64</td>\n",
              "      <td>163.158423</td>\n",
              "      <td>5.778352e+04</td>\n",
              "      <td>1</td>\n",
              "      <td>0.00</td>\n",
              "      <td>79.41</td>\n",
              "      <td>0.00</td>\n",
              "      <td>POLYGON ((476013.974 4203304.591, 475991.099 4...</td>\n",
              "    </tr>\n",
              "    <tr>\n",
              "      <th>87</th>\n",
              "      <td>ATHENS</td>\n",
              "      <td>10561</td>\n",
              "      <td>3</td>\n",
              "      <td>33.33</td>\n",
              "      <td>33.33</td>\n",
              "      <td>0.10</td>\n",
              "      <td>20758.11</td>\n",
              "      <td>495.44</td>\n",
              "      <td>740.08</td>\n",
              "      <td>397.968803</td>\n",
              "      <td>5.906011e+04</td>\n",
              "      <td>1</td>\n",
              "      <td>0.00</td>\n",
              "      <td>81.76</td>\n",
              "      <td>50.00</td>\n",
              "      <td>POLYGON ((476464.923 4203062.060, 476428.206 4...</td>\n",
              "    </tr>\n",
              "    <tr>\n",
              "      <th>88</th>\n",
              "      <td>ATHENS</td>\n",
              "      <td>10563</td>\n",
              "      <td>220</td>\n",
              "      <td>33.18</td>\n",
              "      <td>11.37</td>\n",
              "      <td>0.91</td>\n",
              "      <td>23376.21</td>\n",
              "      <td>560.18</td>\n",
              "      <td>1078.84</td>\n",
              "      <td>255.986658</td>\n",
              "      <td>9.417685e+04</td>\n",
              "      <td>1</td>\n",
              "      <td>0.00</td>\n",
              "      <td>66.80</td>\n",
              "      <td>32.26</td>\n",
              "      <td>POLYGON ((475916.064 4202910.601, 475924.842 4...</td>\n",
              "    </tr>\n",
              "    <tr>\n",
              "      <th>89</th>\n",
              "      <td>ATHENS</td>\n",
              "      <td>10671</td>\n",
              "      <td>550</td>\n",
              "      <td>43.09</td>\n",
              "      <td>32.55</td>\n",
              "      <td>8.18</td>\n",
              "      <td>29740.85</td>\n",
              "      <td>473.56</td>\n",
              "      <td>918.44</td>\n",
              "      <td>342.722362</td>\n",
              "      <td>9.607951e+04</td>\n",
              "      <td>1</td>\n",
              "      <td>0.01</td>\n",
              "      <td>12.30</td>\n",
              "      <td>46.56</td>\n",
              "      <td>POLYGON ((476570.955 4203131.843, 476576.354 4...</td>\n",
              "    </tr>\n",
              "  </tbody>\n",
              "</table>\n",
              "<p>90 rows × 16 columns</p>\n",
              "</div>"
            ],
            "text/plain": [
              "   Municipali  ...                                           geometry\n",
              "0      ATHENS  ...  POLYGON ((475913.572 4205144.087, 475915.290 4...\n",
              "1      ATHENS  ...  POLYGON ((474945.127 4203977.328, 474949.878 4...\n",
              "2      ATHENS  ...  POLYGON ((475200.579 4204194.646, 475202.300 4...\n",
              "3      ATHENS  ...  POLYGON ((475457.791 4205205.622, 475539.603 4...\n",
              "4      ATHENS  ...  POLYGON ((473381.623 4204847.057, 473360.125 4...\n",
              "..        ...  ...                                                ...\n",
              "85     ATHENS  ...  POLYGON ((475917.556 4201186.144, 475877.202 4...\n",
              "86     ATHENS  ...  POLYGON ((476013.974 4203304.591, 475991.099 4...\n",
              "87     ATHENS  ...  POLYGON ((476464.923 4203062.060, 476428.206 4...\n",
              "88     ATHENS  ...  POLYGON ((475916.064 4202910.601, 475924.842 4...\n",
              "89     ATHENS  ...  POLYGON ((476570.955 4203131.843, 476576.354 4...\n",
              "\n",
              "[90 rows x 16 columns]"
            ]
          },
          "metadata": {
            "tags": []
          },
          "execution_count": 4
        }
      ]
    },
    {
      "cell_type": "markdown",
      "metadata": {
        "id": "rEq7jYEOPC3m",
        "colab_type": "text"
      },
      "source": [
        "## Decriptive statistics"
      ]
    },
    {
      "cell_type": "markdown",
      "metadata": {
        "id": "iQEnQoSjP_ch",
        "colab_type": "text"
      },
      "source": [
        "### Using mapclassify with geopandas"
      ]
    },
    {
      "cell_type": "markdown",
      "metadata": {
        "id": "pnSRMqiXTyh5",
        "colab_type": "text"
      },
      "source": [
        "Useful reference [here](https://github.com/pysal/mapclassify/blob/master/notebooks/plot.ipynb)"
      ]
    },
    {
      "cell_type": "code",
      "metadata": {
        "id": "ZoYA3pBgRoOA",
        "colab_type": "code",
        "outputId": "57598e8f-a0cc-44ec-c822-6fee864a72fd",
        "colab": {
          "base_uri": "https://localhost:8080/",
          "height": 173
        }
      },
      "source": [
        "mapclassify.UserDefined(gdf[\"Population\"], bins=[2000, 5000, 15000, 20000])"
      ],
      "execution_count": 5,
      "outputs": [
        {
          "output_type": "execute_result",
          "data": {
            "text/plain": [
              "UserDefined                 \n",
              "\n",
              "      Interval         Count\n",
              "----------------------------\n",
              "[    3.00,  2000.00] |    24\n",
              "( 2000.00,  5000.00] |     9\n",
              "( 5000.00, 15000.00] |    40\n",
              "(15000.00, 20000.00] |    12\n",
              "(20000.00, 25933.00] |     5"
            ]
          },
          "metadata": {
            "tags": []
          },
          "execution_count": 5
        }
      ]
    },
    {
      "cell_type": "code",
      "metadata": {
        "id": "brPy4bsvSBk8",
        "colab_type": "code",
        "outputId": "27e3ebcc-08cc-41d0-9347-b9c4f36f40cc",
        "colab": {
          "base_uri": "https://localhost:8080/",
          "height": 155
        }
      },
      "source": [
        "mapclassify.NaturalBreaks(gdf[\"Population\"], k=4)"
      ],
      "execution_count": 6,
      "outputs": [
        {
          "output_type": "execute_result",
          "data": {
            "text/plain": [
              "NaturalBreaks               \n",
              "\n",
              "      Interval         Count\n",
              "----------------------------\n",
              "[    3.00,  4247.00] |    32\n",
              "( 4247.00, 10099.00] |    21\n",
              "(10099.00, 16739.00] |    25\n",
              "(16739.00, 25933.00] |    12"
            ]
          },
          "metadata": {
            "tags": []
          },
          "execution_count": 6
        }
      ]
    },
    {
      "cell_type": "code",
      "metadata": {
        "id": "YgxG_mGDUb2n",
        "colab_type": "code",
        "colab": {}
      },
      "source": [
        "nb = mapclassify.NaturalBreaks(gdf.Population, k=4)"
      ],
      "execution_count": 0,
      "outputs": []
    },
    {
      "cell_type": "code",
      "metadata": {
        "id": "Mi1IZ_5zQDAd",
        "colab_type": "code",
        "outputId": "5dddeeca-1f74-4e9d-e56b-907c39042913",
        "colab": {
          "base_uri": "https://localhost:8080/",
          "height": 173
        }
      },
      "source": [
        "mapclassify.BoxPlot(gdf[\"Population\"])\n"
      ],
      "execution_count": 8,
      "outputs": [
        {
          "output_type": "execute_result",
          "data": {
            "text/plain": [
              "BoxPlot                       \n",
              "\n",
              "       Interval          Count\n",
              "------------------------------\n",
              "(     -inf, -15796.12] |     0\n",
              "(-15796.12,   1766.25] |    23\n",
              "(  1766.25,   8243.50] |    22\n",
              "(  8243.50,  13474.50] |    22\n",
              "( 13474.50,  31036.88] |    23"
            ]
          },
          "metadata": {
            "tags": []
          },
          "execution_count": 8
        }
      ]
    },
    {
      "cell_type": "code",
      "metadata": {
        "id": "nYksF26jQp2G",
        "colab_type": "code",
        "outputId": "dfd68b6a-ee05-49be-c84c-6ee21dac5ff3",
        "colab": {
          "base_uri": "https://localhost:8080/",
          "height": 173
        }
      },
      "source": [
        "mapclassify.EqualInterval(gdf[\"Population\"])"
      ],
      "execution_count": 9,
      "outputs": [
        {
          "output_type": "execute_result",
          "data": {
            "text/plain": [
              "EqualInterval               \n",
              "\n",
              "      Interval         Count\n",
              "----------------------------\n",
              "[    3.00,  5189.00] |    33\n",
              "( 5189.00, 10375.00] |    20\n",
              "(10375.00, 15561.00] |    21\n",
              "(15561.00, 20747.00] |    11\n",
              "(20747.00, 25933.00] |     5"
            ]
          },
          "metadata": {
            "tags": []
          },
          "execution_count": 9
        }
      ]
    },
    {
      "cell_type": "code",
      "metadata": {
        "id": "AUpxNLw5Q6NM",
        "colab_type": "code",
        "outputId": "9b2982d0-0c13-4c10-930c-80414fca7eff",
        "colab": {
          "base_uri": "https://localhost:8080/",
          "height": 173
        }
      },
      "source": [
        "mapclassify.FisherJenks(gdf[\"Population\"], k=5)"
      ],
      "execution_count": 10,
      "outputs": [
        {
          "output_type": "execute_result",
          "data": {
            "text/plain": [
              "FisherJenks                 \n",
              "\n",
              "      Interval         Count\n",
              "----------------------------\n",
              "[    3.00,  4247.00] |    32\n",
              "( 4247.00,  9426.00] |    18\n",
              "( 9426.00, 14746.00] |    23\n",
              "(14746.00, 19642.00] |    12\n",
              "(19642.00, 25933.00] |     5"
            ]
          },
          "metadata": {
            "tags": []
          },
          "execution_count": 10
        }
      ]
    },
    {
      "cell_type": "code",
      "metadata": {
        "id": "FC4EZzoaRJfs",
        "colab_type": "code",
        "outputId": "ff18a33e-307b-4014-f07b-f5c6718bda05",
        "colab": {
          "base_uri": "https://localhost:8080/",
          "height": 173
        }
      },
      "source": [
        "mapclassify.Quantiles(gdf[\"Population\"], k=5)"
      ],
      "execution_count": 11,
      "outputs": [
        {
          "output_type": "execute_result",
          "data": {
            "text/plain": [
              "Quantiles                   \n",
              "\n",
              "      Interval         Count\n",
              "----------------------------\n",
              "[    3.00,  1420.40] |    18\n",
              "( 1420.40,  6260.20] |    18\n",
              "( 6260.20, 10594.40] |    18\n",
              "(10594.40, 14562.80] |    18\n",
              "(14562.80, 25933.00] |    18"
            ]
          },
          "metadata": {
            "tags": []
          },
          "execution_count": 11
        }
      ]
    },
    {
      "cell_type": "code",
      "metadata": {
        "id": "dIeTZy_6PCBB",
        "colab_type": "code",
        "outputId": "1a467629-bd7d-479c-c27f-6b53d936aa9f",
        "colab": {
          "base_uri": "https://localhost:8080/",
          "height": 138
        }
      },
      "source": [
        " mapclassify.Percentiles(gdf[\"Population\"], pct=[33, 66, 100])"
      ],
      "execution_count": 12,
      "outputs": [
        {
          "output_type": "execute_result",
          "data": {
            "text/plain": [
              "Percentiles                 \n",
              "\n",
              "      Interval         Count\n",
              "----------------------------\n",
              "[    3.00,  3814.71] |    30\n",
              "( 3814.71, 11554.56] |    29\n",
              "(11554.56, 25933.00] |    31"
            ]
          },
          "metadata": {
            "tags": []
          },
          "execution_count": 12
        }
      ]
    },
    {
      "cell_type": "markdown",
      "metadata": {
        "id": "zSy4PDiTQkHF",
        "colab_type": "text"
      },
      "source": [
        "## Choroplets"
      ]
    },
    {
      "cell_type": "code",
      "metadata": {
        "id": "puoODReUZIT4",
        "colab_type": "code",
        "outputId": "91484873-83cd-4eda-deba-296c965b6b7a",
        "colab": {
          "base_uri": "https://localhost:8080/",
          "height": 248
        }
      },
      "source": [
        "ax = gdf.plot(column=\"Population\", scheme='QUANTILES', legend=True)\n",
        "ax.set_axis_off()\n",
        "ax.get_legend().set_bbox_to_anchor((1.4,1))"
      ],
      "execution_count": 13,
      "outputs": [
        {
          "output_type": "display_data",
          "data": {
            "image/png": "[encoded data removed]",
            "text/plain": [
              "<Figure size 432x288 with 1 Axes>"
            ]
          },
          "metadata": {
            "tags": [],
            "needs_background": "light"
          }
        }
      ]
    },
    {
      "cell_type": "code",
      "metadata": {
        "id": "zSGRRJ5uS4FO",
        "colab_type": "code",
        "outputId": "5b271910-bd9b-4bf6-cf53-046e710c1ee3",
        "colab": {
          "base_uri": "https://localhost:8080/",
          "height": 248
        }
      },
      "source": [
        "ax = gdf.plot(column=\"Population\", scheme='NaturalBreaks', legend=True)\n",
        "ax.set_axis_off()\n",
        "ax.get_legend().set_bbox_to_anchor((1.4,1))"
      ],
      "execution_count": 14,
      "outputs": [
        {
          "output_type": "display_data",
          "data": {
            "image/png": "[encoded data removed]",
            "text/plain": [
              "<Figure size 432x288 with 1 Axes>"
            ]
          },
          "metadata": {
            "tags": [],
            "needs_background": "light"
          }
        }
      ]
    },
    {
      "cell_type": "code",
      "metadata": {
        "id": "EkIcYJ_aec5E",
        "colab_type": "code",
        "outputId": "8a831311-b8f5-4f84-fb70-7aef1d500f47",
        "colab": {
          "base_uri": "https://localhost:8080/",
          "height": 248
        }
      },
      "source": [
        "ax = gdf.plot(column=\"Population\", scheme='EqualInterval', legend=True)\n",
        "ax.set_axis_off()\n",
        "ax.get_legend().set_bbox_to_anchor((1.4,1))"
      ],
      "execution_count": 15,
      "outputs": [
        {
          "output_type": "display_data",
          "data": {
            "image/png": "[encoded data removed]",
            "text/plain": [
              "<Figure size 432x288 with 1 Axes>"
            ]
          },
          "metadata": {
            "tags": [],
            "needs_background": "light"
          }
        }
      ]
    },
    {
      "cell_type": "code",
      "metadata": {
        "id": "ub-xIYyre0yV",
        "colab_type": "code",
        "outputId": "c3c83b48-6d77-44f2-ba72-6d8bc65c9f2e",
        "colab": {
          "base_uri": "https://localhost:8080/",
          "height": 248
        }
      },
      "source": [
        "ax = gdf.plot(column=\"Population\", scheme=\"FisherJenks\", legend=True)\n",
        "ax.set_axis_off()\n",
        "ax.get_legend().set_bbox_to_anchor((1.4,1))"
      ],
      "execution_count": 16,
      "outputs": [
        {
          "output_type": "display_data",
          "data": {
            "image/png": "[encoded data removed]",
            "text/plain": [
              "<Figure size 432x288 with 1 Axes>"
            ]
          },
          "metadata": {
            "tags": [],
            "needs_background": "light"
          }
        }
      ]
    },
    {
      "cell_type": "markdown",
      "metadata": {
        "id": "UPf0VvCKLymq",
        "colab_type": "text"
      },
      "source": [
        "## Using legendgrams"
      ]
    },
    {
      "cell_type": "markdown",
      "metadata": {
        "id": "atqIexrzXAyS",
        "colab_type": "text"
      },
      "source": [
        "Useful reference [here](https://github.com/pysal/legendgram/blob/master/examples/examples.ipynb)"
      ]
    },
    {
      "cell_type": "code",
      "metadata": {
        "id": "DHd4ttgcLqhN",
        "colab_type": "code",
        "outputId": "243e0450-886e-4320-c003-d2ef08f401aa",
        "colab": {
          "base_uri": "https://localhost:8080/",
          "height": 285
        }
      },
      "source": [
        "# Using legendgrams\n",
        "ax = gdf.plot(\"Population\")\n",
        "ax.axis('off')\n",
        "legendgram(plt.gcf(), # grab the figure, we need it\n",
        "           ax, # the axis to add the legend\n",
        "           gdf.Population, # the attribute to map\n",
        "           np.percentile(gdf.Population, np.arange(10,110,10)), # the breaks to induce color differences on\n",
        "           mplpal.Viridis_10 # the palette to use\n",
        "          )\n"
      ],
      "execution_count": 17,
      "outputs": [
        {
          "output_type": "execute_result",
          "data": {
            "text/plain": [
              "<matplotlib.axes._axes.Axes at 0x7f4b19b0b160>"
            ]
          },
          "metadata": {
            "tags": []
          },
          "execution_count": 17
        },
        {
          "output_type": "display_data",
          "data": {
            "image/png": "[encoded data removed]",
            "text/plain": [
              "<Figure size 432x288 with 2 Axes>"
            ]
          },
          "metadata": {
            "tags": [],
            "needs_background": "light"
          }
        }
      ]
    },
    {
      "cell_type": "markdown",
      "metadata": {
        "id": "HecOY6fFp7lg",
        "colab_type": "text"
      },
      "source": [
        "# Nepal Aid data"
      ]
    },
    {
      "cell_type": "markdown",
      "metadata": {
        "id": "0kmPgI7PqBLM",
        "colab_type": "text"
      },
      "source": [
        "## Shapefile: NepalAid\n",
        "\n",
        "- File name and extension: [NapalAid.zip](https://github.com/ds777/sample-datasets/blob/master/NepalAid.zip.zip?raw=true)\n",
        "\n",
        "### Data information\n",
        "\n",
        "Observations = 75 districts\n",
        "\n",
        "Variables = 26. One cross-section based on data for years between 1991 and 2013\n",
        "\n",
        "- DepEcProv:  Deprivation in economic provisioning\n",
        "- PovIndex:\t  Human Poverty Index\n",
        "- PCInc:\t    Per Capita Income\n",
        "- PCIncPPP:\t  Per Capita Income PPP\n",
        "- PCIncMP:  \tPer capita income, Rs. at market price\n",
        "- MalKids:\t  Percentage of children under age five who are malnourished\n",
        "- Lif40:\t    Percentage of People not expected to survive age 40\n",
        "- NoSafH20:  \tPercentage without safe water\n",
        "- Population:\tPopulation\n",
        "- BoyG1_5:\t  Number of Boys Enrolled in Grade 1-5 (2012-2013)\n",
        "- GirlG1_5:\t  Number of Girls Enrolled in Grade 1-5 (2012-2013)\n",
        "- KIDS1_5:\t  Number of Children Enrolled in Grade 1-5 (2012-2013)\n",
        "- SchoolCnt: \tNumber of Schools (2012-2013)\n",
        "- SCHLPKID:\t  Number of Schools per child (in thousands) (2012-2013)\n",
        "- SCHLPPOP:\t  Number of Schools per population (in thousands) (2012-2013)\n",
        "- AD_ILLIT:\t  Adult illiteracy rate (2011)\n",
        "- AD_ILGT50:  Dummy variable with value of 1 if adult illiteracy rate >50% (2011)\n",
        "- VotNum:   \tNumber of Voters (lunar years 2047-2063, approx. 1991 to 2006)\n",
        "- TotEcFMS: \tTotal economy including financial intermediation service indirectly measured (total value added)\n",
        "- XXCAmt:\t    Project Sector Committed Amount: XX = sector (see above)\tProject Data from AidData Aggregated to District\n",
        "- XXDAmt:\t    Project Sector Distributed Amount: XX = sector: Agriculture, Business Banking, Communication, Conflict Resolution, Budget Support + Finance, Education, Energy, Environment, Forestry, Gov + Civil Society, Health, Humanitarian Aid, Industry, Multi-Sector, Social Infrastructure, Tourism, Transport + Storage, Water Sanitation, Total\n",
        "\n",
        "\n",
        "### Source:\n",
        "\n",
        "https://geodacenter.github.io/data-and-lab/nepal/\n",
        "\n",
        "\n",
        "### Download link:\n",
        "\n",
        "https://github.com/ds777/sample-datasets/blob/master/NepalAid.zip.zip?raw=true\n",
        "\n",
        "\n"
      ]
    },
    {
      "cell_type": "markdown",
      "metadata": {
        "id": "IBJef4IEqoes",
        "colab_type": "text"
      },
      "source": [
        "## Load datset"
      ]
    },
    {
      "cell_type": "markdown",
      "metadata": {
        "id": "YK7q4YTHwWN1",
        "colab_type": "text"
      },
      "source": [
        "Be careful! column names are imported as lower case"
      ]
    },
    {
      "cell_type": "code",
      "metadata": {
        "id": "UjhkRiKzqlwY",
        "colab_type": "code",
        "outputId": "1b459c04-939b-40db-b964-49946c15a76f",
        "colab": {
          "base_uri": "https://localhost:8080/",
          "height": 1000
        }
      },
      "source": [
        "NepalAid = gpd.read_file(\"/content/cloned-repo/Lab1/GeoDa/NepalAid.shp\")\n",
        "NepalAid"
      ],
      "execution_count": 18,
      "outputs": [
        {
          "output_type": "execute_result",
          "data": {
            "text/html": [
              "<div>\n",
              "<style scoped>\n",
              "    .dataframe tbody tr th:only-of-type {\n",
              "        vertical-align: middle;\n",
              "    }\n",
              "\n",
              "    .dataframe tbody tr th {\n",
              "        vertical-align: top;\n",
              "    }\n",
              "\n",
              "    .dataframe thead th {\n",
              "        text-align: right;\n",
              "    }\n",
              "</style>\n",
              "<table border=\"1\" class=\"dataframe\">\n",
              "  <thead>\n",
              "    <tr style=\"text-align: right;\">\n",
              "      <th></th>\n",
              "      <th>id</th>\n",
              "      <th>id_1</th>\n",
              "      <th>name_1</th>\n",
              "      <th>id_2</th>\n",
              "      <th>name_2</th>\n",
              "      <th>id_3</th>\n",
              "      <th>district</th>\n",
              "      <th>depecprov</th>\n",
              "      <th>povindex</th>\n",
              "      <th>pcinc</th>\n",
              "      <th>pcincppp</th>\n",
              "      <th>pcincmp</th>\n",
              "      <th>malkids</th>\n",
              "      <th>lif40</th>\n",
              "      <th>nosafh20</th>\n",
              "      <th>population</th>\n",
              "      <th>boyg1_5</th>\n",
              "      <th>girlg1_5</th>\n",
              "      <th>kids1_5</th>\n",
              "      <th>schoolcnt</th>\n",
              "      <th>schlpkid</th>\n",
              "      <th>schlppop</th>\n",
              "      <th>ad_illit</th>\n",
              "      <th>ad_ilgt50</th>\n",
              "      <th>lon</th>\n",
              "      <th>lat</th>\n",
              "      <th>geometry</th>\n",
              "    </tr>\n",
              "  </thead>\n",
              "  <tbody>\n",
              "    <tr>\n",
              "      <th>0</th>\n",
              "      <td>1.0</td>\n",
              "      <td>0.0</td>\n",
              "      <td>None</td>\n",
              "      <td>8.0</td>\n",
              "      <td>Dhaualagiri</td>\n",
              "      <td>60.0</td>\n",
              "      <td>Baglung</td>\n",
              "      <td>27.01</td>\n",
              "      <td>27.33</td>\n",
              "      <td>354.0</td>\n",
              "      <td>573.0</td>\n",
              "      <td>25613.0</td>\n",
              "      <td>42.9</td>\n",
              "      <td>8.52</td>\n",
              "      <td>11.12</td>\n",
              "      <td>250065.0</td>\n",
              "      <td>29144.0</td>\n",
              "      <td>31123.0</td>\n",
              "      <td>60267.0</td>\n",
              "      <td>554.0</td>\n",
              "      <td>9.1924</td>\n",
              "      <td>2.215424</td>\n",
              "      <td>34.46</td>\n",
              "      <td>0.0</td>\n",
              "      <td>83.252444</td>\n",
              "      <td>28.347313</td>\n",
              "      <td>POLYGON ((83.10834 28.62020, 83.10560 28.60976...</td>\n",
              "    </tr>\n",
              "    <tr>\n",
              "      <th>1</th>\n",
              "      <td>2.0</td>\n",
              "      <td>0.0</td>\n",
              "      <td>None</td>\n",
              "      <td>8.0</td>\n",
              "      <td>Dhaualagiri</td>\n",
              "      <td>61.0</td>\n",
              "      <td>Mustang</td>\n",
              "      <td>31.51</td>\n",
              "      <td>31.16</td>\n",
              "      <td>1189.0</td>\n",
              "      <td>1922.0</td>\n",
              "      <td>85957.0</td>\n",
              "      <td>54.7</td>\n",
              "      <td>12.02</td>\n",
              "      <td>8.32</td>\n",
              "      <td>11585.0</td>\n",
              "      <td>784.0</td>\n",
              "      <td>806.0</td>\n",
              "      <td>1590.0</td>\n",
              "      <td>70.0</td>\n",
              "      <td>44.0252</td>\n",
              "      <td>6.042296</td>\n",
              "      <td>38.65</td>\n",
              "      <td>0.0</td>\n",
              "      <td>83.859902</td>\n",
              "      <td>28.981165</td>\n",
              "      <td>POLYGON ((83.99726 29.31675, 84.00000 29.31576...</td>\n",
              "    </tr>\n",
              "    <tr>\n",
              "      <th>2</th>\n",
              "      <td>3.0</td>\n",
              "      <td>0.0</td>\n",
              "      <td>None</td>\n",
              "      <td>8.0</td>\n",
              "      <td>Dhaualagiri</td>\n",
              "      <td>62.0</td>\n",
              "      <td>Myagdi</td>\n",
              "      <td>30.03</td>\n",
              "      <td>28.54</td>\n",
              "      <td>636.0</td>\n",
              "      <td>1028.0</td>\n",
              "      <td>45986.0</td>\n",
              "      <td>47.5</td>\n",
              "      <td>7.27</td>\n",
              "      <td>12.56</td>\n",
              "      <td>109598.0</td>\n",
              "      <td>9035.0</td>\n",
              "      <td>9033.0</td>\n",
              "      <td>18068.0</td>\n",
              "      <td>273.0</td>\n",
              "      <td>15.1096</td>\n",
              "      <td>2.490921</td>\n",
              "      <td>34.84</td>\n",
              "      <td>0.0</td>\n",
              "      <td>83.461955</td>\n",
              "      <td>28.552960</td>\n",
              "      <td>POLYGON ((83.50688 28.79306, 83.51024 28.78809...</td>\n",
              "    </tr>\n",
              "    <tr>\n",
              "      <th>3</th>\n",
              "      <td>4.0</td>\n",
              "      <td>0.0</td>\n",
              "      <td>None</td>\n",
              "      <td>8.0</td>\n",
              "      <td>Dhaualagiri</td>\n",
              "      <td>63.0</td>\n",
              "      <td>Parbat</td>\n",
              "      <td>21.84</td>\n",
              "      <td>24.62</td>\n",
              "      <td>627.0</td>\n",
              "      <td>1013.0</td>\n",
              "      <td>45289.0</td>\n",
              "      <td>26.2</td>\n",
              "      <td>6.11</td>\n",
              "      <td>17.47</td>\n",
              "      <td>145657.0</td>\n",
              "      <td>11202.0</td>\n",
              "      <td>11280.0</td>\n",
              "      <td>22482.0</td>\n",
              "      <td>369.0</td>\n",
              "      <td>16.4131</td>\n",
              "      <td>2.533349</td>\n",
              "      <td>32.43</td>\n",
              "      <td>0.0</td>\n",
              "      <td>83.680893</td>\n",
              "      <td>28.211019</td>\n",
              "      <td>POLYGON ((83.70261 28.39837, 83.70435 28.39452...</td>\n",
              "    </tr>\n",
              "    <tr>\n",
              "      <th>4</th>\n",
              "      <td>5.0</td>\n",
              "      <td>1.0</td>\n",
              "      <td>Central</td>\n",
              "      <td>1.0</td>\n",
              "      <td>Bagmati</td>\n",
              "      <td>1.0</td>\n",
              "      <td>Bhaktapur</td>\n",
              "      <td>22.58</td>\n",
              "      <td>19.43</td>\n",
              "      <td>854.0</td>\n",
              "      <td>1379.0</td>\n",
              "      <td>61686.0</td>\n",
              "      <td>26.9</td>\n",
              "      <td>3.31</td>\n",
              "      <td>18.25</td>\n",
              "      <td>296705.0</td>\n",
              "      <td>16533.0</td>\n",
              "      <td>15271.0</td>\n",
              "      <td>31804.0</td>\n",
              "      <td>355.0</td>\n",
              "      <td>11.1621</td>\n",
              "      <td>1.196475</td>\n",
              "      <td>21.87</td>\n",
              "      <td>0.0</td>\n",
              "      <td>85.442906</td>\n",
              "      <td>27.677353</td>\n",
              "      <td>POLYGON ((85.52173 27.71822, 85.52359 27.71375...</td>\n",
              "    </tr>\n",
              "    <tr>\n",
              "      <th>...</th>\n",
              "      <td>...</td>\n",
              "      <td>...</td>\n",
              "      <td>...</td>\n",
              "      <td>...</td>\n",
              "      <td>...</td>\n",
              "      <td>...</td>\n",
              "      <td>...</td>\n",
              "      <td>...</td>\n",
              "      <td>...</td>\n",
              "      <td>...</td>\n",
              "      <td>...</td>\n",
              "      <td>...</td>\n",
              "      <td>...</td>\n",
              "      <td>...</td>\n",
              "      <td>...</td>\n",
              "      <td>...</td>\n",
              "      <td>...</td>\n",
              "      <td>...</td>\n",
              "      <td>...</td>\n",
              "      <td>...</td>\n",
              "      <td>...</td>\n",
              "      <td>...</td>\n",
              "      <td>...</td>\n",
              "      <td>...</td>\n",
              "      <td>...</td>\n",
              "      <td>...</td>\n",
              "      <td>...</td>\n",
              "    </tr>\n",
              "    <tr>\n",
              "      <th>70</th>\n",
              "      <td>71.0</td>\n",
              "      <td>5.0</td>\n",
              "      <td>West</td>\n",
              "      <td>14.0</td>\n",
              "      <td>Lumbini</td>\n",
              "      <td>70.0</td>\n",
              "      <td>Arghakhanchi</td>\n",
              "      <td>27.24</td>\n",
              "      <td>27.37</td>\n",
              "      <td>562.0</td>\n",
              "      <td>909.0</td>\n",
              "      <td>40635.0</td>\n",
              "      <td>31.0</td>\n",
              "      <td>7.71</td>\n",
              "      <td>23.48</td>\n",
              "      <td>196873.0</td>\n",
              "      <td>18893.0</td>\n",
              "      <td>18594.0</td>\n",
              "      <td>37487.0</td>\n",
              "      <td>451.0</td>\n",
              "      <td>12.0308</td>\n",
              "      <td>2.290817</td>\n",
              "      <td>34.43</td>\n",
              "      <td>0.0</td>\n",
              "      <td>83.081325</td>\n",
              "      <td>27.908351</td>\n",
              "      <td>POLYGON ((83.02333 28.10508, 83.02967 28.09924...</td>\n",
              "    </tr>\n",
              "    <tr>\n",
              "      <th>71</th>\n",
              "      <td>72.0</td>\n",
              "      <td>5.0</td>\n",
              "      <td>West</td>\n",
              "      <td>14.0</td>\n",
              "      <td>Lumbini</td>\n",
              "      <td>71.0</td>\n",
              "      <td>Gulmi</td>\n",
              "      <td>27.36</td>\n",
              "      <td>27.42</td>\n",
              "      <td>465.0</td>\n",
              "      <td>752.0</td>\n",
              "      <td>33625.0</td>\n",
              "      <td>43.3</td>\n",
              "      <td>8.26</td>\n",
              "      <td>11.42</td>\n",
              "      <td>279005.0</td>\n",
              "      <td>24865.0</td>\n",
              "      <td>24999.0</td>\n",
              "      <td>49864.0</td>\n",
              "      <td>615.0</td>\n",
              "      <td>12.3335</td>\n",
              "      <td>2.204262</td>\n",
              "      <td>34.42</td>\n",
              "      <td>0.0</td>\n",
              "      <td>83.309026</td>\n",
              "      <td>28.093708</td>\n",
              "      <td>POLYGON ((83.19185 28.26453, 83.20638 28.25558...</td>\n",
              "    </tr>\n",
              "    <tr>\n",
              "      <th>72</th>\n",
              "      <td>73.0</td>\n",
              "      <td>5.0</td>\n",
              "      <td>West</td>\n",
              "      <td>14.0</td>\n",
              "      <td>Lumbini</td>\n",
              "      <td>73.0</td>\n",
              "      <td>Nawalparasi</td>\n",
              "      <td>26.01</td>\n",
              "      <td>27.99</td>\n",
              "      <td>716.0</td>\n",
              "      <td>1157.0</td>\n",
              "      <td>51742.0</td>\n",
              "      <td>38.9</td>\n",
              "      <td>8.09</td>\n",
              "      <td>13.11</td>\n",
              "      <td>638836.0</td>\n",
              "      <td>52014.0</td>\n",
              "      <td>51413.0</td>\n",
              "      <td>103427.0</td>\n",
              "      <td>706.0</td>\n",
              "      <td>6.8261</td>\n",
              "      <td>1.105135</td>\n",
              "      <td>36.25</td>\n",
              "      <td>0.0</td>\n",
              "      <td>83.955312</td>\n",
              "      <td>27.633575</td>\n",
              "      <td>POLYGON ((84.10302 27.86387, 84.09755 27.85927...</td>\n",
              "    </tr>\n",
              "    <tr>\n",
              "      <th>73</th>\n",
              "      <td>74.0</td>\n",
              "      <td>5.0</td>\n",
              "      <td>West</td>\n",
              "      <td>14.0</td>\n",
              "      <td>Lumbini</td>\n",
              "      <td>74.0</td>\n",
              "      <td>Palpa</td>\n",
              "      <td>28.42</td>\n",
              "      <td>25.23</td>\n",
              "      <td>609.0</td>\n",
              "      <td>985.0</td>\n",
              "      <td>44031.0</td>\n",
              "      <td>35.9</td>\n",
              "      <td>7.25</td>\n",
              "      <td>20.93</td>\n",
              "      <td>258842.0</td>\n",
              "      <td>22180.0</td>\n",
              "      <td>21734.0</td>\n",
              "      <td>43914.0</td>\n",
              "      <td>496.0</td>\n",
              "      <td>11.2948</td>\n",
              "      <td>1.916227</td>\n",
              "      <td>29.18</td>\n",
              "      <td>0.0</td>\n",
              "      <td>83.625682</td>\n",
              "      <td>27.817122</td>\n",
              "      <td>POLYGON ((83.37988 27.95869, 83.37875 27.95583...</td>\n",
              "    </tr>\n",
              "    <tr>\n",
              "      <th>74</th>\n",
              "      <td>75.0</td>\n",
              "      <td>5.0</td>\n",
              "      <td>West</td>\n",
              "      <td>14.0</td>\n",
              "      <td>Lumbini</td>\n",
              "      <td>75.0</td>\n",
              "      <td>Rupandehi</td>\n",
              "      <td>20.10</td>\n",
              "      <td>26.15</td>\n",
              "      <td>695.0</td>\n",
              "      <td>1123.0</td>\n",
              "      <td>50210.0</td>\n",
              "      <td>37.7</td>\n",
              "      <td>7.30</td>\n",
              "      <td>2.50</td>\n",
              "      <td>873314.0</td>\n",
              "      <td>65667.0</td>\n",
              "      <td>65781.0</td>\n",
              "      <td>131448.0</td>\n",
              "      <td>597.0</td>\n",
              "      <td>4.5417</td>\n",
              "      <td>0.683603</td>\n",
              "      <td>35.61</td>\n",
              "      <td>0.0</td>\n",
              "      <td>83.391548</td>\n",
              "      <td>27.576497</td>\n",
              "      <td>POLYGON ((83.30704 27.76594, 83.31587 27.76234...</td>\n",
              "    </tr>\n",
              "  </tbody>\n",
              "</table>\n",
              "<p>75 rows × 27 columns</p>\n",
              "</div>"
            ],
            "text/plain": [
              "      id  id_1  ...        lat                                           geometry\n",
              "0    1.0   0.0  ...  28.347313  POLYGON ((83.10834 28.62020, 83.10560 28.60976...\n",
              "1    2.0   0.0  ...  28.981165  POLYGON ((83.99726 29.31675, 84.00000 29.31576...\n",
              "2    3.0   0.0  ...  28.552960  POLYGON ((83.50688 28.79306, 83.51024 28.78809...\n",
              "3    4.0   0.0  ...  28.211019  POLYGON ((83.70261 28.39837, 83.70435 28.39452...\n",
              "4    5.0   1.0  ...  27.677353  POLYGON ((85.52173 27.71822, 85.52359 27.71375...\n",
              "..   ...   ...  ...        ...                                                ...\n",
              "70  71.0   5.0  ...  27.908351  POLYGON ((83.02333 28.10508, 83.02967 28.09924...\n",
              "71  72.0   5.0  ...  28.093708  POLYGON ((83.19185 28.26453, 83.20638 28.25558...\n",
              "72  73.0   5.0  ...  27.633575  POLYGON ((84.10302 27.86387, 84.09755 27.85927...\n",
              "73  74.0   5.0  ...  27.817122  POLYGON ((83.37988 27.95869, 83.37875 27.95583...\n",
              "74  75.0   5.0  ...  27.576497  POLYGON ((83.30704 27.76594, 83.31587 27.76234...\n",
              "\n",
              "[75 rows x 27 columns]"
            ]
          },
          "metadata": {
            "tags": []
          },
          "execution_count": 18
        }
      ]
    },
    {
      "cell_type": "code",
      "metadata": {
        "id": "KgN6adFXvRB4",
        "colab_type": "code",
        "colab": {
          "base_uri": "https://localhost:8080/",
          "height": 199
        },
        "outputId": "a1f29390-64b6-4831-f931-6f49ebc2df40"
      },
      "source": [
        "ax = NepalAid.plot(column=\"pcincppp\", scheme='NaturalBreaks', legend=True)\n",
        "ax.set_axis_off()\n"
      ],
      "execution_count": 22,
      "outputs": [
        {
          "output_type": "display_data",
          "data": {
            "image/png": "[encoded data removed]",
            "text/plain": [
              "<Figure size 432x288 with 1 Axes>"
            ]
          },
          "metadata": {
            "tags": [],
            "needs_background": "light"
          }
        }
      ]
    },
    {
      "cell_type": "code",
      "metadata": {
        "id": "igQt1znxu1mL",
        "colab_type": "code",
        "colab": {
          "base_uri": "https://localhost:8080/",
          "height": 236
        },
        "outputId": "f2ad3d4a-e11a-4451-a2d3-d2ecce265d1f"
      },
      "source": [
        "# Using legendgrams\n",
        "ax = NepalAid.plot(\"pcincppp\")\n",
        "ax.axis('off')\n",
        "legendgram(plt.gcf(), # grab the figure, we need it\n",
        "           ax, # the axis to add the legend\n",
        "           NepalAid.pcincppp, # the attribute to map\n",
        "           np.percentile(NepalAid.pcincppp, np.arange(10,110,10)), # the breaks to induce color differences on\n",
        "           mplpal.Viridis_10 # the palette to use\n",
        "          )"
      ],
      "execution_count": 23,
      "outputs": [
        {
          "output_type": "execute_result",
          "data": {
            "text/plain": [
              "<matplotlib.axes._axes.Axes at 0x7f4b195ad8d0>"
            ]
          },
          "metadata": {
            "tags": []
          },
          "execution_count": 23
        },
        {
          "output_type": "display_data",
          "data": {
            "image/png": "[encoded data removed]",
            "text/plain": [
              "<Figure size 432x288 with 2 Axes>"
            ]
          },
          "metadata": {
            "tags": [],
            "needs_background": "light"
          }
        }
      ]
    }
  ]
}